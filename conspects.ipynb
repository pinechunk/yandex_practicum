{
 "cells": [
  {
   "cell_type": "markdown",
   "source": [
    "## Предобработка данных"
   ],
   "metadata": {
    "collapsed": false,
    "pycharm": {
     "name": "#%% md\n"
    }
   }
  },
  {
   "cell_type": "code",
   "execution_count": null,
   "outputs": [],
   "source": [
    "# импортируйте библиотеку pandas\n",
    "import pandas as pd\n",
    "# считайте csv-файл 'music_log.csv' в переменную df\n",
    "df = pd.read_csv('music_log.csv')\n",
    "# переименуйте названия столбцов df\n",
    "df = df.rename(columns={'  user_id': 'user_id', 'total play': 'total_play', 'Artist': 'artist'})\n",
    "# объявите список columns_to_replace с названиями столбцов track, artist, genre\n",
    "columns_to_replace = ['track', 'artist', 'genre']\n",
    "# заполните отсутствующие значения столбцов из списка columns_to_replace значением 'unknown' в цикле\n",
    "for i in columns_to_replace:\n",
    "    df[i] = df[i].fillna('unknown')\n",
    "# удалите строки-дубликаты из датафрейма df\n",
    "df = df.drop_duplicates().reset_index(drop=True)\n",
    "# выведите на экран первые 20 строчек обновлённого набора данных df\n",
    "print(df.head(20))"
   ],
   "metadata": {
    "collapsed": false,
    "pycharm": {
     "name": "#%%\n"
    }
   }
  }
 ],
 "metadata": {
  "kernelspec": {
   "display_name": "Python 3",
   "language": "python",
   "name": "python3"
  },
  "language_info": {
   "codemirror_mode": {
    "name": "ipython",
    "version": 2
   },
   "file_extension": ".py",
   "mimetype": "text/x-python",
   "name": "python",
   "nbconvert_exporter": "python",
   "pygments_lexer": "ipython2",
   "version": "2.7.6"
  }
 },
 "nbformat": 4,
 "nbformat_minor": 0
}