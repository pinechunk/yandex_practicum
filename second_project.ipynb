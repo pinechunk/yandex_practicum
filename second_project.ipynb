{
 "cells": [
  {
   "cell_type": "markdown",
   "id": "c81daeeb",
   "metadata": {
    "deletable": false,
    "editable": false,
    "id": "c81daeeb",
    "pycharm": {
     "name": "#%% md\n"
    }
   },
   "source": [
    "# Исследование надежности заемщиков"
   ]
  },
  {
   "cell_type": "markdown",
   "id": "-G3EJWzf62s6",
   "metadata": {
    "deletable": false,
    "editable": false,
    "id": "-G3EJWzf62s6",
    "pycharm": {
     "name": "#%% md\n"
    }
   },
   "source": [
    "Это первая часть проекта, она будет проверена автоматически. Вторую часть проверит ревьюер. "
   ]
  },
  {
   "cell_type": "markdown",
   "id": "744d7639",
   "metadata": {
    "deletable": false,
    "editable": false,
    "id": "744d7639",
    "pycharm": {
     "name": "#%% md\n"
    }
   },
   "source": [
    "## Откройте таблицу и изучите общую информацию о данных"
   ]
  },
  {
   "cell_type": "markdown",
   "id": "e7a14c31",
   "metadata": {
    "deletable": false,
    "editable": false,
    "id": "e7a14c31",
    "tags": [
     "start_task"
    ],
    "pycharm": {
     "name": "#%% md\n"
    }
   },
   "source": [
    "**Задание 1. Импортируйте библиотеку pandas. Считайте данные из csv-файла в датафрейм и сохраните в переменную `data`. Путь к файлу:**\n",
    "\n",
    "`/datasets/data.csv`"
   ]
  },
  {
   "cell_type": "code",
   "execution_count": 40,
   "id": "7bcf75c9",
   "metadata": {
    "id": "7bcf75c9",
    "pycharm": {
     "name": "#%%\n"
    }
   },
   "outputs": [],
   "source": [
    "# импортируйте библиотеку pandas\n",
    "import pandas as pd"
   ]
  },
  {
   "cell_type": "code",
   "execution_count": 41,
   "id": "4d240ee2",
   "metadata": {
    "id": "4d240ee2",
    "pycharm": {
     "name": "#%%\n"
    }
   },
   "outputs": [],
   "source": [
    "# прочитайте csv-файл\n",
    "data = pd.read_csv('/datasets/data.csv')"
   ]
  },
  {
   "cell_type": "markdown",
   "id": "b8038fe3",
   "metadata": {
    "deletable": false,
    "editable": false,
    "id": "b8038fe3",
    "tags": [
     "start_task"
    ],
    "pycharm": {
     "name": "#%% md\n"
    }
   },
   "source": [
    "**Задание 2. Выведите первые 20 строчек датафрейма `data` на экран.**"
   ]
  },
  {
   "cell_type": "code",
   "execution_count": 42,
   "id": "2a7cab99",
   "metadata": {
    "id": "2a7cab99",
    "pycharm": {
     "name": "#%%\n"
    }
   },
   "outputs": [
    {
     "data": {
      "text/html": [
       "<div>\n",
       "<style scoped>\n",
       "    .dataframe tbody tr th:only-of-type {\n",
       "        vertical-align: middle;\n",
       "    }\n",
       "\n",
       "    .dataframe tbody tr th {\n",
       "        vertical-align: top;\n",
       "    }\n",
       "\n",
       "    .dataframe thead th {\n",
       "        text-align: right;\n",
       "    }\n",
       "</style>\n",
       "<table border=\"1\" class=\"dataframe\">\n",
       "  <thead>\n",
       "    <tr style=\"text-align: right;\">\n",
       "      <th></th>\n",
       "      <th>children</th>\n",
       "      <th>days_employed</th>\n",
       "      <th>dob_years</th>\n",
       "      <th>education</th>\n",
       "      <th>education_id</th>\n",
       "      <th>family_status</th>\n",
       "      <th>family_status_id</th>\n",
       "      <th>gender</th>\n",
       "      <th>income_type</th>\n",
       "      <th>debt</th>\n",
       "      <th>total_income</th>\n",
       "      <th>purpose</th>\n",
       "    </tr>\n",
       "  </thead>\n",
       "  <tbody>\n",
       "    <tr>\n",
       "      <th>0</th>\n",
       "      <td>1</td>\n",
       "      <td>-8437.673028</td>\n",
       "      <td>42</td>\n",
       "      <td>высшее</td>\n",
       "      <td>0</td>\n",
       "      <td>женат / замужем</td>\n",
       "      <td>0</td>\n",
       "      <td>F</td>\n",
       "      <td>сотрудник</td>\n",
       "      <td>0</td>\n",
       "      <td>253875.639453</td>\n",
       "      <td>покупка жилья</td>\n",
       "    </tr>\n",
       "    <tr>\n",
       "      <th>1</th>\n",
       "      <td>1</td>\n",
       "      <td>-4024.803754</td>\n",
       "      <td>36</td>\n",
       "      <td>среднее</td>\n",
       "      <td>1</td>\n",
       "      <td>женат / замужем</td>\n",
       "      <td>0</td>\n",
       "      <td>F</td>\n",
       "      <td>сотрудник</td>\n",
       "      <td>0</td>\n",
       "      <td>112080.014102</td>\n",
       "      <td>приобретение автомобиля</td>\n",
       "    </tr>\n",
       "    <tr>\n",
       "      <th>2</th>\n",
       "      <td>0</td>\n",
       "      <td>-5623.422610</td>\n",
       "      <td>33</td>\n",
       "      <td>Среднее</td>\n",
       "      <td>1</td>\n",
       "      <td>женат / замужем</td>\n",
       "      <td>0</td>\n",
       "      <td>M</td>\n",
       "      <td>сотрудник</td>\n",
       "      <td>0</td>\n",
       "      <td>145885.952297</td>\n",
       "      <td>покупка жилья</td>\n",
       "    </tr>\n",
       "    <tr>\n",
       "      <th>3</th>\n",
       "      <td>3</td>\n",
       "      <td>-4124.747207</td>\n",
       "      <td>32</td>\n",
       "      <td>среднее</td>\n",
       "      <td>1</td>\n",
       "      <td>женат / замужем</td>\n",
       "      <td>0</td>\n",
       "      <td>M</td>\n",
       "      <td>сотрудник</td>\n",
       "      <td>0</td>\n",
       "      <td>267628.550329</td>\n",
       "      <td>дополнительное образование</td>\n",
       "    </tr>\n",
       "    <tr>\n",
       "      <th>4</th>\n",
       "      <td>0</td>\n",
       "      <td>340266.072047</td>\n",
       "      <td>53</td>\n",
       "      <td>среднее</td>\n",
       "      <td>1</td>\n",
       "      <td>гражданский брак</td>\n",
       "      <td>1</td>\n",
       "      <td>F</td>\n",
       "      <td>пенсионер</td>\n",
       "      <td>0</td>\n",
       "      <td>158616.077870</td>\n",
       "      <td>сыграть свадьбу</td>\n",
       "    </tr>\n",
       "    <tr>\n",
       "      <th>5</th>\n",
       "      <td>0</td>\n",
       "      <td>-926.185831</td>\n",
       "      <td>27</td>\n",
       "      <td>высшее</td>\n",
       "      <td>0</td>\n",
       "      <td>гражданский брак</td>\n",
       "      <td>1</td>\n",
       "      <td>M</td>\n",
       "      <td>компаньон</td>\n",
       "      <td>0</td>\n",
       "      <td>255763.565419</td>\n",
       "      <td>покупка жилья</td>\n",
       "    </tr>\n",
       "    <tr>\n",
       "      <th>6</th>\n",
       "      <td>0</td>\n",
       "      <td>-2879.202052</td>\n",
       "      <td>43</td>\n",
       "      <td>высшее</td>\n",
       "      <td>0</td>\n",
       "      <td>женат / замужем</td>\n",
       "      <td>0</td>\n",
       "      <td>F</td>\n",
       "      <td>компаньон</td>\n",
       "      <td>0</td>\n",
       "      <td>240525.971920</td>\n",
       "      <td>операции с жильем</td>\n",
       "    </tr>\n",
       "    <tr>\n",
       "      <th>7</th>\n",
       "      <td>0</td>\n",
       "      <td>-152.779569</td>\n",
       "      <td>50</td>\n",
       "      <td>СРЕДНЕЕ</td>\n",
       "      <td>1</td>\n",
       "      <td>женат / замужем</td>\n",
       "      <td>0</td>\n",
       "      <td>M</td>\n",
       "      <td>сотрудник</td>\n",
       "      <td>0</td>\n",
       "      <td>135823.934197</td>\n",
       "      <td>образование</td>\n",
       "    </tr>\n",
       "    <tr>\n",
       "      <th>8</th>\n",
       "      <td>2</td>\n",
       "      <td>-6929.865299</td>\n",
       "      <td>35</td>\n",
       "      <td>ВЫСШЕЕ</td>\n",
       "      <td>0</td>\n",
       "      <td>гражданский брак</td>\n",
       "      <td>1</td>\n",
       "      <td>F</td>\n",
       "      <td>сотрудник</td>\n",
       "      <td>0</td>\n",
       "      <td>95856.832424</td>\n",
       "      <td>на проведение свадьбы</td>\n",
       "    </tr>\n",
       "    <tr>\n",
       "      <th>9</th>\n",
       "      <td>0</td>\n",
       "      <td>-2188.756445</td>\n",
       "      <td>41</td>\n",
       "      <td>среднее</td>\n",
       "      <td>1</td>\n",
       "      <td>женат / замужем</td>\n",
       "      <td>0</td>\n",
       "      <td>M</td>\n",
       "      <td>сотрудник</td>\n",
       "      <td>0</td>\n",
       "      <td>144425.938277</td>\n",
       "      <td>покупка жилья для семьи</td>\n",
       "    </tr>\n",
       "    <tr>\n",
       "      <th>10</th>\n",
       "      <td>2</td>\n",
       "      <td>-4171.483647</td>\n",
       "      <td>36</td>\n",
       "      <td>высшее</td>\n",
       "      <td>0</td>\n",
       "      <td>женат / замужем</td>\n",
       "      <td>0</td>\n",
       "      <td>M</td>\n",
       "      <td>компаньон</td>\n",
       "      <td>0</td>\n",
       "      <td>113943.491460</td>\n",
       "      <td>покупка недвижимости</td>\n",
       "    </tr>\n",
       "    <tr>\n",
       "      <th>11</th>\n",
       "      <td>0</td>\n",
       "      <td>-792.701887</td>\n",
       "      <td>40</td>\n",
       "      <td>среднее</td>\n",
       "      <td>1</td>\n",
       "      <td>женат / замужем</td>\n",
       "      <td>0</td>\n",
       "      <td>F</td>\n",
       "      <td>сотрудник</td>\n",
       "      <td>0</td>\n",
       "      <td>77069.234271</td>\n",
       "      <td>покупка коммерческой недвижимости</td>\n",
       "    </tr>\n",
       "    <tr>\n",
       "      <th>12</th>\n",
       "      <td>0</td>\n",
       "      <td>NaN</td>\n",
       "      <td>65</td>\n",
       "      <td>среднее</td>\n",
       "      <td>1</td>\n",
       "      <td>гражданский брак</td>\n",
       "      <td>1</td>\n",
       "      <td>M</td>\n",
       "      <td>пенсионер</td>\n",
       "      <td>0</td>\n",
       "      <td>NaN</td>\n",
       "      <td>сыграть свадьбу</td>\n",
       "    </tr>\n",
       "    <tr>\n",
       "      <th>13</th>\n",
       "      <td>0</td>\n",
       "      <td>-1846.641941</td>\n",
       "      <td>54</td>\n",
       "      <td>неоконченное высшее</td>\n",
       "      <td>2</td>\n",
       "      <td>женат / замужем</td>\n",
       "      <td>0</td>\n",
       "      <td>F</td>\n",
       "      <td>сотрудник</td>\n",
       "      <td>0</td>\n",
       "      <td>130458.228857</td>\n",
       "      <td>приобретение автомобиля</td>\n",
       "    </tr>\n",
       "    <tr>\n",
       "      <th>14</th>\n",
       "      <td>0</td>\n",
       "      <td>-1844.956182</td>\n",
       "      <td>56</td>\n",
       "      <td>высшее</td>\n",
       "      <td>0</td>\n",
       "      <td>гражданский брак</td>\n",
       "      <td>1</td>\n",
       "      <td>F</td>\n",
       "      <td>компаньон</td>\n",
       "      <td>1</td>\n",
       "      <td>165127.911772</td>\n",
       "      <td>покупка жилой недвижимости</td>\n",
       "    </tr>\n",
       "    <tr>\n",
       "      <th>15</th>\n",
       "      <td>1</td>\n",
       "      <td>-972.364419</td>\n",
       "      <td>26</td>\n",
       "      <td>среднее</td>\n",
       "      <td>1</td>\n",
       "      <td>женат / замужем</td>\n",
       "      <td>0</td>\n",
       "      <td>F</td>\n",
       "      <td>сотрудник</td>\n",
       "      <td>0</td>\n",
       "      <td>116820.904450</td>\n",
       "      <td>строительство собственной недвижимости</td>\n",
       "    </tr>\n",
       "    <tr>\n",
       "      <th>16</th>\n",
       "      <td>0</td>\n",
       "      <td>-1719.934226</td>\n",
       "      <td>35</td>\n",
       "      <td>среднее</td>\n",
       "      <td>1</td>\n",
       "      <td>женат / замужем</td>\n",
       "      <td>0</td>\n",
       "      <td>F</td>\n",
       "      <td>сотрудник</td>\n",
       "      <td>0</td>\n",
       "      <td>289202.704229</td>\n",
       "      <td>недвижимость</td>\n",
       "    </tr>\n",
       "    <tr>\n",
       "      <th>17</th>\n",
       "      <td>0</td>\n",
       "      <td>-2369.999720</td>\n",
       "      <td>33</td>\n",
       "      <td>высшее</td>\n",
       "      <td>0</td>\n",
       "      <td>гражданский брак</td>\n",
       "      <td>1</td>\n",
       "      <td>M</td>\n",
       "      <td>сотрудник</td>\n",
       "      <td>0</td>\n",
       "      <td>90410.586745</td>\n",
       "      <td>строительство недвижимости</td>\n",
       "    </tr>\n",
       "    <tr>\n",
       "      <th>18</th>\n",
       "      <td>0</td>\n",
       "      <td>400281.136913</td>\n",
       "      <td>53</td>\n",
       "      <td>среднее</td>\n",
       "      <td>1</td>\n",
       "      <td>вдовец / вдова</td>\n",
       "      <td>2</td>\n",
       "      <td>F</td>\n",
       "      <td>пенсионер</td>\n",
       "      <td>0</td>\n",
       "      <td>56823.777243</td>\n",
       "      <td>на покупку подержанного автомобиля</td>\n",
       "    </tr>\n",
       "    <tr>\n",
       "      <th>19</th>\n",
       "      <td>0</td>\n",
       "      <td>-10038.818549</td>\n",
       "      <td>48</td>\n",
       "      <td>СРЕДНЕЕ</td>\n",
       "      <td>1</td>\n",
       "      <td>в разводе</td>\n",
       "      <td>3</td>\n",
       "      <td>F</td>\n",
       "      <td>сотрудник</td>\n",
       "      <td>0</td>\n",
       "      <td>242831.107982</td>\n",
       "      <td>на покупку своего автомобиля</td>\n",
       "    </tr>\n",
       "  </tbody>\n",
       "</table>\n",
       "</div>"
      ],
      "text/plain": [
       "    children  days_employed  dob_years            education  education_id  \\\n",
       "0          1   -8437.673028         42               высшее             0   \n",
       "1          1   -4024.803754         36              среднее             1   \n",
       "2          0   -5623.422610         33              Среднее             1   \n",
       "3          3   -4124.747207         32              среднее             1   \n",
       "4          0  340266.072047         53              среднее             1   \n",
       "5          0    -926.185831         27               высшее             0   \n",
       "6          0   -2879.202052         43               высшее             0   \n",
       "7          0    -152.779569         50              СРЕДНЕЕ             1   \n",
       "8          2   -6929.865299         35               ВЫСШЕЕ             0   \n",
       "9          0   -2188.756445         41              среднее             1   \n",
       "10         2   -4171.483647         36               высшее             0   \n",
       "11         0    -792.701887         40              среднее             1   \n",
       "12         0            NaN         65              среднее             1   \n",
       "13         0   -1846.641941         54  неоконченное высшее             2   \n",
       "14         0   -1844.956182         56               высшее             0   \n",
       "15         1    -972.364419         26              среднее             1   \n",
       "16         0   -1719.934226         35              среднее             1   \n",
       "17         0   -2369.999720         33               высшее             0   \n",
       "18         0  400281.136913         53              среднее             1   \n",
       "19         0  -10038.818549         48              СРЕДНЕЕ             1   \n",
       "\n",
       "       family_status  family_status_id gender income_type  debt  \\\n",
       "0    женат / замужем                 0      F   сотрудник     0   \n",
       "1    женат / замужем                 0      F   сотрудник     0   \n",
       "2    женат / замужем                 0      M   сотрудник     0   \n",
       "3    женат / замужем                 0      M   сотрудник     0   \n",
       "4   гражданский брак                 1      F   пенсионер     0   \n",
       "5   гражданский брак                 1      M   компаньон     0   \n",
       "6    женат / замужем                 0      F   компаньон     0   \n",
       "7    женат / замужем                 0      M   сотрудник     0   \n",
       "8   гражданский брак                 1      F   сотрудник     0   \n",
       "9    женат / замужем                 0      M   сотрудник     0   \n",
       "10   женат / замужем                 0      M   компаньон     0   \n",
       "11   женат / замужем                 0      F   сотрудник     0   \n",
       "12  гражданский брак                 1      M   пенсионер     0   \n",
       "13   женат / замужем                 0      F   сотрудник     0   \n",
       "14  гражданский брак                 1      F   компаньон     1   \n",
       "15   женат / замужем                 0      F   сотрудник     0   \n",
       "16   женат / замужем                 0      F   сотрудник     0   \n",
       "17  гражданский брак                 1      M   сотрудник     0   \n",
       "18    вдовец / вдова                 2      F   пенсионер     0   \n",
       "19         в разводе                 3      F   сотрудник     0   \n",
       "\n",
       "     total_income                                 purpose  \n",
       "0   253875.639453                           покупка жилья  \n",
       "1   112080.014102                 приобретение автомобиля  \n",
       "2   145885.952297                           покупка жилья  \n",
       "3   267628.550329              дополнительное образование  \n",
       "4   158616.077870                         сыграть свадьбу  \n",
       "5   255763.565419                           покупка жилья  \n",
       "6   240525.971920                       операции с жильем  \n",
       "7   135823.934197                             образование  \n",
       "8    95856.832424                   на проведение свадьбы  \n",
       "9   144425.938277                 покупка жилья для семьи  \n",
       "10  113943.491460                    покупка недвижимости  \n",
       "11   77069.234271       покупка коммерческой недвижимости  \n",
       "12            NaN                         сыграть свадьбу  \n",
       "13  130458.228857                 приобретение автомобиля  \n",
       "14  165127.911772              покупка жилой недвижимости  \n",
       "15  116820.904450  строительство собственной недвижимости  \n",
       "16  289202.704229                            недвижимость  \n",
       "17   90410.586745              строительство недвижимости  \n",
       "18   56823.777243      на покупку подержанного автомобиля  \n",
       "19  242831.107982            на покупку своего автомобиля  "
      ]
     },
     "execution_count": 42,
     "metadata": {},
     "output_type": "execute_result"
    }
   ],
   "source": [
    "# ваш код здесь\n",
    "data.head(20)"
   ]
  },
  {
   "cell_type": "markdown",
   "id": "1c12e233",
   "metadata": {
    "deletable": false,
    "editable": false,
    "id": "1c12e233",
    "tags": [
     "start_task"
    ],
    "pycharm": {
     "name": "#%% md\n"
    }
   },
   "source": [
    "**Задание 3. Выведите основную информацию о датафрейме с помощью метода `info()`.**"
   ]
  },
  {
   "cell_type": "code",
   "execution_count": 43,
   "id": "2b757bca",
   "metadata": {
    "id": "2b757bca",
    "pycharm": {
     "name": "#%%\n"
    }
   },
   "outputs": [
    {
     "name": "stdout",
     "output_type": "stream",
     "text": [
      "<class 'pandas.core.frame.DataFrame'>\n",
      "RangeIndex: 21525 entries, 0 to 21524\n",
      "Data columns (total 12 columns):\n",
      " #   Column            Non-Null Count  Dtype  \n",
      "---  ------            --------------  -----  \n",
      " 0   children          21525 non-null  int64  \n",
      " 1   days_employed     19351 non-null  float64\n",
      " 2   dob_years         21525 non-null  int64  \n",
      " 3   education         21525 non-null  object \n",
      " 4   education_id      21525 non-null  int64  \n",
      " 5   family_status     21525 non-null  object \n",
      " 6   family_status_id  21525 non-null  int64  \n",
      " 7   gender            21525 non-null  object \n",
      " 8   income_type       21525 non-null  object \n",
      " 9   debt              21525 non-null  int64  \n",
      " 10  total_income      19351 non-null  float64\n",
      " 11  purpose           21525 non-null  object \n",
      "dtypes: float64(2), int64(5), object(5)\n",
      "memory usage: 2.0+ MB\n"
     ]
    }
   ],
   "source": [
    "# ваш код здесь\n",
    "data.info()"
   ]
  },
  {
   "cell_type": "markdown",
   "id": "333ec665",
   "metadata": {
    "deletable": false,
    "editable": false,
    "id": "333ec665",
    "pycharm": {
     "name": "#%% md\n"
    }
   },
   "source": [
    "## Предобработка данных"
   ]
  },
  {
   "cell_type": "markdown",
   "id": "02d92d53",
   "metadata": {
    "deletable": false,
    "editable": false,
    "id": "02d92d53",
    "pycharm": {
     "name": "#%% md\n"
    }
   },
   "source": [
    "### Удаление пропусков"
   ]
  },
  {
   "cell_type": "markdown",
   "id": "cd84967c",
   "metadata": {
    "deletable": false,
    "editable": false,
    "id": "cd84967c",
    "tags": [
     "start_task"
    ],
    "pycharm": {
     "name": "#%% md\n"
    }
   },
   "source": [
    "**Задание 4. Выведите количество пропущенных значений для каждого столбца. Используйте комбинацию двух методов.**"
   ]
  },
  {
   "cell_type": "code",
   "execution_count": 44,
   "id": "7f9b2309",
   "metadata": {
    "id": "7f9b2309",
    "pycharm": {
     "name": "#%%\n"
    }
   },
   "outputs": [
    {
     "data": {
      "text/plain": [
       "children               0\n",
       "days_employed       2174\n",
       "dob_years              0\n",
       "education              0\n",
       "education_id           0\n",
       "family_status          0\n",
       "family_status_id       0\n",
       "gender                 0\n",
       "income_type            0\n",
       "debt                   0\n",
       "total_income        2174\n",
       "purpose                0\n",
       "dtype: int64"
      ]
     },
     "execution_count": 44,
     "metadata": {},
     "output_type": "execute_result"
    }
   ],
   "source": [
    "# ваш код здесь\n",
    "data.isna().sum()"
   ]
  },
  {
   "cell_type": "markdown",
   "id": "db86e27b",
   "metadata": {
    "deletable": false,
    "editable": false,
    "id": "db86e27b",
    "tags": [
     "start_task"
    ],
    "pycharm": {
     "name": "#%% md\n"
    }
   },
   "source": [
    "**Задание 5. В двух столбцах есть пропущенные значения. Один из них — `days_employed`. Пропуски в этом столбце вы обработаете на следующем этапе. Другой столбец с пропущенными значениями — `total_income` — хранит данные о доходах. На сумму дохода сильнее всего влияет тип занятости, поэтому заполнить пропуски в этом столбце нужно медианным значением по каждому типу из столбца `income_type`. Например, у человека с типом занятости `сотрудник` пропуск в столбце `total_income` должен быть заполнен медианным доходом среди всех записей с тем же типом.**"
   ]
  },
  {
   "cell_type": "code",
   "execution_count": 45,
   "id": "42006a93",
   "metadata": {
    "id": "42006a93",
    "pycharm": {
     "name": "#%%\n"
    }
   },
   "outputs": [
    {
     "data": {
      "text/html": [
       "<div>\n",
       "<style scoped>\n",
       "    .dataframe tbody tr th:only-of-type {\n",
       "        vertical-align: middle;\n",
       "    }\n",
       "\n",
       "    .dataframe tbody tr th {\n",
       "        vertical-align: top;\n",
       "    }\n",
       "\n",
       "    .dataframe thead th {\n",
       "        text-align: right;\n",
       "    }\n",
       "</style>\n",
       "<table border=\"1\" class=\"dataframe\">\n",
       "  <thead>\n",
       "    <tr style=\"text-align: right;\">\n",
       "      <th></th>\n",
       "      <th>children</th>\n",
       "      <th>days_employed</th>\n",
       "      <th>dob_years</th>\n",
       "      <th>education</th>\n",
       "      <th>education_id</th>\n",
       "      <th>family_status</th>\n",
       "      <th>family_status_id</th>\n",
       "      <th>gender</th>\n",
       "      <th>income_type</th>\n",
       "      <th>debt</th>\n",
       "      <th>total_income</th>\n",
       "      <th>purpose</th>\n",
       "    </tr>\n",
       "  </thead>\n",
       "  <tbody>\n",
       "    <tr>\n",
       "      <th>0</th>\n",
       "      <td>1</td>\n",
       "      <td>-8437.673028</td>\n",
       "      <td>42</td>\n",
       "      <td>высшее</td>\n",
       "      <td>0</td>\n",
       "      <td>женат / замужем</td>\n",
       "      <td>0</td>\n",
       "      <td>F</td>\n",
       "      <td>сотрудник</td>\n",
       "      <td>0</td>\n",
       "      <td>253875.639453</td>\n",
       "      <td>покупка жилья</td>\n",
       "    </tr>\n",
       "    <tr>\n",
       "      <th>1</th>\n",
       "      <td>1</td>\n",
       "      <td>-4024.803754</td>\n",
       "      <td>36</td>\n",
       "      <td>среднее</td>\n",
       "      <td>1</td>\n",
       "      <td>женат / замужем</td>\n",
       "      <td>0</td>\n",
       "      <td>F</td>\n",
       "      <td>сотрудник</td>\n",
       "      <td>0</td>\n",
       "      <td>112080.014102</td>\n",
       "      <td>приобретение автомобиля</td>\n",
       "    </tr>\n",
       "    <tr>\n",
       "      <th>2</th>\n",
       "      <td>0</td>\n",
       "      <td>-5623.422610</td>\n",
       "      <td>33</td>\n",
       "      <td>Среднее</td>\n",
       "      <td>1</td>\n",
       "      <td>женат / замужем</td>\n",
       "      <td>0</td>\n",
       "      <td>M</td>\n",
       "      <td>сотрудник</td>\n",
       "      <td>0</td>\n",
       "      <td>145885.952297</td>\n",
       "      <td>покупка жилья</td>\n",
       "    </tr>\n",
       "    <tr>\n",
       "      <th>3</th>\n",
       "      <td>3</td>\n",
       "      <td>-4124.747207</td>\n",
       "      <td>32</td>\n",
       "      <td>среднее</td>\n",
       "      <td>1</td>\n",
       "      <td>женат / замужем</td>\n",
       "      <td>0</td>\n",
       "      <td>M</td>\n",
       "      <td>сотрудник</td>\n",
       "      <td>0</td>\n",
       "      <td>267628.550329</td>\n",
       "      <td>дополнительное образование</td>\n",
       "    </tr>\n",
       "    <tr>\n",
       "      <th>4</th>\n",
       "      <td>0</td>\n",
       "      <td>340266.072047</td>\n",
       "      <td>53</td>\n",
       "      <td>среднее</td>\n",
       "      <td>1</td>\n",
       "      <td>гражданский брак</td>\n",
       "      <td>1</td>\n",
       "      <td>F</td>\n",
       "      <td>пенсионер</td>\n",
       "      <td>0</td>\n",
       "      <td>158616.077870</td>\n",
       "      <td>сыграть свадьбу</td>\n",
       "    </tr>\n",
       "    <tr>\n",
       "      <th>5</th>\n",
       "      <td>0</td>\n",
       "      <td>-926.185831</td>\n",
       "      <td>27</td>\n",
       "      <td>высшее</td>\n",
       "      <td>0</td>\n",
       "      <td>гражданский брак</td>\n",
       "      <td>1</td>\n",
       "      <td>M</td>\n",
       "      <td>компаньон</td>\n",
       "      <td>0</td>\n",
       "      <td>255763.565419</td>\n",
       "      <td>покупка жилья</td>\n",
       "    </tr>\n",
       "    <tr>\n",
       "      <th>6</th>\n",
       "      <td>0</td>\n",
       "      <td>-2879.202052</td>\n",
       "      <td>43</td>\n",
       "      <td>высшее</td>\n",
       "      <td>0</td>\n",
       "      <td>женат / замужем</td>\n",
       "      <td>0</td>\n",
       "      <td>F</td>\n",
       "      <td>компаньон</td>\n",
       "      <td>0</td>\n",
       "      <td>240525.971920</td>\n",
       "      <td>операции с жильем</td>\n",
       "    </tr>\n",
       "    <tr>\n",
       "      <th>7</th>\n",
       "      <td>0</td>\n",
       "      <td>-152.779569</td>\n",
       "      <td>50</td>\n",
       "      <td>СРЕДНЕЕ</td>\n",
       "      <td>1</td>\n",
       "      <td>женат / замужем</td>\n",
       "      <td>0</td>\n",
       "      <td>M</td>\n",
       "      <td>сотрудник</td>\n",
       "      <td>0</td>\n",
       "      <td>135823.934197</td>\n",
       "      <td>образование</td>\n",
       "    </tr>\n",
       "    <tr>\n",
       "      <th>8</th>\n",
       "      <td>2</td>\n",
       "      <td>-6929.865299</td>\n",
       "      <td>35</td>\n",
       "      <td>ВЫСШЕЕ</td>\n",
       "      <td>0</td>\n",
       "      <td>гражданский брак</td>\n",
       "      <td>1</td>\n",
       "      <td>F</td>\n",
       "      <td>сотрудник</td>\n",
       "      <td>0</td>\n",
       "      <td>95856.832424</td>\n",
       "      <td>на проведение свадьбы</td>\n",
       "    </tr>\n",
       "    <tr>\n",
       "      <th>9</th>\n",
       "      <td>0</td>\n",
       "      <td>-2188.756445</td>\n",
       "      <td>41</td>\n",
       "      <td>среднее</td>\n",
       "      <td>1</td>\n",
       "      <td>женат / замужем</td>\n",
       "      <td>0</td>\n",
       "      <td>M</td>\n",
       "      <td>сотрудник</td>\n",
       "      <td>0</td>\n",
       "      <td>144425.938277</td>\n",
       "      <td>покупка жилья для семьи</td>\n",
       "    </tr>\n",
       "  </tbody>\n",
       "</table>\n",
       "</div>"
      ],
      "text/plain": [
       "   children  days_employed  dob_years education  education_id  \\\n",
       "0         1   -8437.673028         42    высшее             0   \n",
       "1         1   -4024.803754         36   среднее             1   \n",
       "2         0   -5623.422610         33   Среднее             1   \n",
       "3         3   -4124.747207         32   среднее             1   \n",
       "4         0  340266.072047         53   среднее             1   \n",
       "5         0    -926.185831         27    высшее             0   \n",
       "6         0   -2879.202052         43    высшее             0   \n",
       "7         0    -152.779569         50   СРЕДНЕЕ             1   \n",
       "8         2   -6929.865299         35    ВЫСШЕЕ             0   \n",
       "9         0   -2188.756445         41   среднее             1   \n",
       "\n",
       "      family_status  family_status_id gender income_type  debt   total_income  \\\n",
       "0   женат / замужем                 0      F   сотрудник     0  253875.639453   \n",
       "1   женат / замужем                 0      F   сотрудник     0  112080.014102   \n",
       "2   женат / замужем                 0      M   сотрудник     0  145885.952297   \n",
       "3   женат / замужем                 0      M   сотрудник     0  267628.550329   \n",
       "4  гражданский брак                 1      F   пенсионер     0  158616.077870   \n",
       "5  гражданский брак                 1      M   компаньон     0  255763.565419   \n",
       "6   женат / замужем                 0      F   компаньон     0  240525.971920   \n",
       "7   женат / замужем                 0      M   сотрудник     0  135823.934197   \n",
       "8  гражданский брак                 1      F   сотрудник     0   95856.832424   \n",
       "9   женат / замужем                 0      M   сотрудник     0  144425.938277   \n",
       "\n",
       "                      purpose  \n",
       "0               покупка жилья  \n",
       "1     приобретение автомобиля  \n",
       "2               покупка жилья  \n",
       "3  дополнительное образование  \n",
       "4             сыграть свадьбу  \n",
       "5               покупка жилья  \n",
       "6           операции с жильем  \n",
       "7                 образование  \n",
       "8       на проведение свадьбы  \n",
       "9     покупка жилья для семьи  "
      ]
     },
     "execution_count": 45,
     "metadata": {},
     "output_type": "execute_result"
    }
   ],
   "source": [
    "for i in data['income_type'].unique():\n",
    "    '''\n",
    "    Пробегаюсь циклом по списку с уникальными значениями\n",
    "    Группирую датасет по двум столбцам, один из которых задан переменной i, нахожу медины для всех значений\n",
    "    Условие условия — и тип занятости, и значение дохода пустое\n",
    "    Присваиваю медиану значениям NaN\n",
    "    '''\n",
    "    temp = float(data[data['income_type'] == i].groupby('income_type')['total_income'].median())\n",
    "    data.loc[(data['income_type'] == i) & (data['total_income'].isna()), 'total_income'] = temp\n",
    "    \n",
    "data.head(10)"
   ]
  },
  {
   "cell_type": "markdown",
   "id": "89da5ece",
   "metadata": {
    "deletable": false,
    "editable": false,
    "id": "89da5ece",
    "pycharm": {
     "name": "#%% md\n"
    }
   },
   "source": [
    "### Обработка аномальных значений"
   ]
  },
  {
   "cell_type": "markdown",
   "id": "57964554",
   "metadata": {
    "deletable": false,
    "editable": false,
    "id": "57964554",
    "tags": [
     "start_task"
    ],
    "pycharm": {
     "name": "#%% md\n"
    }
   },
   "source": [
    "**Задание 6. В данных могут встречаться артефакты (аномалии) — значения, которые не отражают действительность и появились по какой-то ошибке. Таким артефактом будет отрицательное количество дней трудового стажа в столбце `days_employed`. Для реальных данных это нормально. Обработайте значения в этом столбце: замените все отрицательные значения положительными с помощью метода `abs()`.**"
   ]
  },
  {
   "cell_type": "code",
   "execution_count": 46,
   "id": "f6f055bf",
   "metadata": {
    "id": "f6f055bf",
    "pycharm": {
     "name": "#%%\n"
    }
   },
   "outputs": [],
   "source": [
    "# ваш код здесь\n",
    "data['days_employed'] = data['days_employed'].abs()\n",
    "\n",
    "#data[data['days_employed'] < 0]\n",
    "#data.head(10)"
   ]
  },
  {
   "cell_type": "markdown",
   "id": "6107dd2f",
   "metadata": {
    "deletable": false,
    "editable": false,
    "id": "6107dd2f",
    "tags": [
     "start_task"
    ],
    "pycharm": {
     "name": "#%% md\n"
    }
   },
   "source": [
    "**Задание 7. Для каждого типа занятости выведите медианное значение трудового стажа `days_employed` в днях.**"
   ]
  },
  {
   "cell_type": "code",
   "execution_count": 47,
   "id": "85a5faf6",
   "metadata": {
    "id": "85a5faf6",
    "pycharm": {
     "name": "#%%\n"
    }
   },
   "outputs": [
    {
     "data": {
      "text/plain": [
       "income_type\n",
       "безработный        366413.652744\n",
       "в декрете            3296.759962\n",
       "госслужащий          2689.368353\n",
       "компаньон            1547.382223\n",
       "пенсионер          365213.306266\n",
       "предприниматель       520.848083\n",
       "сотрудник            1574.202821\n",
       "студент               578.751554\n",
       "Name: days_employed, dtype: float64"
      ]
     },
     "execution_count": 47,
     "metadata": {},
     "output_type": "execute_result"
    }
   ],
   "source": [
    "# ваш код здесь\n",
    "data.groupby('income_type')['days_employed'].median()"
   ]
  },
  {
   "cell_type": "markdown",
   "id": "38d1a030",
   "metadata": {
    "deletable": false,
    "editable": false,
    "id": "38d1a030",
    "pycharm": {
     "name": "#%% md\n"
    }
   },
   "source": [
    "У двух типов (безработные и пенсионеры) получатся аномально большие значения. Исправить такие значения сложно, поэтому оставьте их как есть. Тем более этот столбец не понадобится вам для исследования."
   ]
  },
  {
   "cell_type": "markdown",
   "id": "d8a9f147",
   "metadata": {
    "deletable": false,
    "editable": false,
    "id": "d8a9f147",
    "tags": [
     "start_task"
    ],
    "pycharm": {
     "name": "#%% md\n"
    }
   },
   "source": [
    "**Задание 8. Выведите перечень уникальных значений столбца `children`.**"
   ]
  },
  {
   "cell_type": "code",
   "execution_count": 48,
   "id": "ef5056eb",
   "metadata": {
    "id": "ef5056eb",
    "pycharm": {
     "name": "#%%\n"
    }
   },
   "outputs": [
    {
     "data": {
      "text/plain": [
       "array([ 1,  0,  3,  2, -1,  4, 20,  5])"
      ]
     },
     "execution_count": 48,
     "metadata": {},
     "output_type": "execute_result"
    }
   ],
   "source": [
    "# ваш код здесь\n",
    "data['children'].unique()"
   ]
  },
  {
   "cell_type": "markdown",
   "id": "40b9ebf2",
   "metadata": {
    "deletable": false,
    "editable": false,
    "id": "40b9ebf2",
    "tags": [
     "start_task"
    ],
    "pycharm": {
     "name": "#%% md\n"
    }
   },
   "source": [
    "**Задание 9. В столбце `children` есть два аномальных значения. Удалите строки, в которых встречаются такие аномальные значения из датафрейма `data`.**"
   ]
  },
  {
   "cell_type": "code",
   "execution_count": 49,
   "id": "3ff9801d",
   "metadata": {
    "id": "3ff9801d",
    "pycharm": {
     "name": "#%%\n"
    }
   },
   "outputs": [],
   "source": [
    "# ваш код здесь\n",
    "data = data.drop(data[data['children'] == -1].index)\n",
    "data = data.drop(data[data['children'] == 20].index)"
   ]
  },
  {
   "cell_type": "markdown",
   "id": "bbc4d0ce",
   "metadata": {
    "deletable": false,
    "editable": false,
    "id": "bbc4d0ce",
    "tags": [
     "start_task"
    ],
    "pycharm": {
     "name": "#%% md\n"
    }
   },
   "source": [
    "**Задание 10. Ещё раз выведите перечень уникальных значений столбца `children`, чтобы убедиться, что артефакты удалены.**"
   ]
  },
  {
   "cell_type": "code",
   "execution_count": 50,
   "id": "ad4fa8b7",
   "metadata": {
    "id": "ad4fa8b7",
    "pycharm": {
     "name": "#%%\n"
    }
   },
   "outputs": [
    {
     "data": {
      "text/plain": [
       "array([1, 0, 3, 2, 4, 5])"
      ]
     },
     "execution_count": 50,
     "metadata": {},
     "output_type": "execute_result"
    }
   ],
   "source": [
    "# ваш код здесь\n",
    "data['children'].unique()"
   ]
  },
  {
   "cell_type": "markdown",
   "id": "75440b63",
   "metadata": {
    "deletable": false,
    "editable": false,
    "id": "75440b63",
    "pycharm": {
     "name": "#%% md\n"
    }
   },
   "source": [
    "### Удаление пропусков (продолжение)"
   ]
  },
  {
   "cell_type": "markdown",
   "id": "f4ea573f",
   "metadata": {
    "deletable": false,
    "editable": false,
    "id": "f4ea573f",
    "tags": [
     "start_task"
    ],
    "pycharm": {
     "name": "#%% md\n"
    }
   },
   "source": [
    "**Задание 11. Заполните пропуски в столбце `days_employed` медианными значениями по каждому типу занятости `income_type`.**"
   ]
  },
  {
   "cell_type": "code",
   "execution_count": 56,
   "id": "af6b1a7e",
   "metadata": {
    "id": "af6b1a7e",
    "pycharm": {
     "name": "#%%\n"
    }
   },
   "outputs": [],
   "source": [
    "# ваш код здесь\n",
    "for i in data['income_type'].unique():\n",
    "    \n",
    "    temp = float(data[data['income_type'] == i].groupby('income_type')['days_employed'].median())\n",
    "    data.loc[(data['income_type'] == i) & (data['days_employed'].isna()), 'days_employed'] = temp"
   ]
  },
  {
   "cell_type": "markdown",
   "id": "2753f40d",
   "metadata": {
    "deletable": false,
    "editable": false,
    "id": "2753f40d",
    "tags": [
     "start_task"
    ],
    "pycharm": {
     "name": "#%% md\n"
    }
   },
   "source": [
    "**Задание 12. Убедитесь, что все пропуски заполнены. Проверьте себя и ещё раз выведите количество пропущенных значений для каждого столбца с помощью двух методов.**"
   ]
  },
  {
   "cell_type": "code",
   "execution_count": 58,
   "id": "55f78bc2",
   "metadata": {
    "id": "55f78bc2",
    "pycharm": {
     "name": "#%%\n"
    }
   },
   "outputs": [
    {
     "data": {
      "text/plain": [
       "0"
      ]
     },
     "execution_count": 58,
     "metadata": {},
     "output_type": "execute_result"
    }
   ],
   "source": [
    "# ваш код здесь\n",
    "data['days_employed'].isna().sum()\n",
    "data['income_type'].isna().sum()"
   ]
  },
  {
   "cell_type": "markdown",
   "id": "ddc81e43",
   "metadata": {
    "deletable": false,
    "editable": false,
    "id": "ddc81e43",
    "pycharm": {
     "name": "#%% md\n"
    }
   },
   "source": [
    "### Изменение типов данных"
   ]
  },
  {
   "cell_type": "markdown",
   "id": "42d19d24",
   "metadata": {
    "deletable": false,
    "editable": false,
    "id": "42d19d24",
    "tags": [
     "start_task"
    ],
    "pycharm": {
     "name": "#%% md\n"
    }
   },
   "source": [
    "**Задание 13. Замените вещественный тип данных в столбце `total_income` на целочисленный с помощью метода `astype()`.**"
   ]
  },
  {
   "cell_type": "code",
   "execution_count": 59,
   "id": "920b65ad",
   "metadata": {
    "id": "920b65ad",
    "pycharm": {
     "name": "#%%\n"
    }
   },
   "outputs": [],
   "source": [
    "# ваш код здесь\n",
    "\n",
    "data['total_income'] = data['total_income'].astype('int')"
   ]
  },
  {
   "cell_type": "markdown",
   "id": "80c420ba",
   "metadata": {
    "deletable": false,
    "editable": false,
    "id": "80c420ba",
    "pycharm": {
     "name": "#%% md\n"
    }
   },
   "source": [
    "### Обработка дубликатов"
   ]
  },
  {
   "cell_type": "markdown",
   "id": "dc587695",
   "metadata": {
    "deletable": false,
    "editable": false,
    "id": "dc587695",
    "tags": [
     "start_task"
    ],
    "pycharm": {
     "name": "#%% md\n"
    }
   },
   "source": [
    "**Задание 14. Обработайте неявные дубликаты в столбце `education`. В этом столбце есть одни и те же значения, но записанные по-разному: с использованием заглавных и строчных букв. Приведите их к нижнему регистру.**"
   ]
  },
  {
   "cell_type": "code",
   "execution_count": 61,
   "id": "a9f8e2bf",
   "metadata": {
    "id": "a9f8e2bf",
    "pycharm": {
     "name": "#%%\n"
    }
   },
   "outputs": [],
   "source": [
    "# ваш код здесь\n",
    "data['education'] = data['education'].str.lower()"
   ]
  },
  {
   "cell_type": "markdown",
   "id": "9771a76c",
   "metadata": {
    "deletable": false,
    "editable": false,
    "id": "9771a76c",
    "tags": [
     "start_task"
    ],
    "pycharm": {
     "name": "#%% md\n"
    }
   },
   "source": [
    "**Задание 15. Выведите на экран количество строк-дубликатов в данных. Если такие строки присутствуют, удалите их. Сбрасывать индексы после удаления строк дубликатов с помощью `reset_index(drop=True)` здесь не требуется.**"
   ]
  },
  {
   "cell_type": "code",
   "execution_count": 62,
   "id": "3ee445e4",
   "metadata": {
    "id": "3ee445e4",
    "pycharm": {
     "name": "#%%\n"
    }
   },
   "outputs": [
    {
     "data": {
      "text/plain": [
       "71"
      ]
     },
     "execution_count": 62,
     "metadata": {},
     "output_type": "execute_result"
    }
   ],
   "source": [
    "# посчитайте дубликаты\n",
    "data.duplicated().sum()"
   ]
  },
  {
   "cell_type": "code",
   "execution_count": 64,
   "id": "8575fe05",
   "metadata": {
    "id": "8575fe05",
    "pycharm": {
     "name": "#%%\n"
    }
   },
   "outputs": [],
   "source": [
    "# удалите дубликаты\n",
    "data = data.drop_duplicates()"
   ]
  },
  {
   "cell_type": "markdown",
   "id": "9904cf55",
   "metadata": {
    "deletable": false,
    "editable": false,
    "id": "9904cf55",
    "pycharm": {
     "name": "#%% md\n"
    }
   },
   "source": [
    "### Категоризация данных"
   ]
  },
  {
   "cell_type": "markdown",
   "id": "72fcc8a2",
   "metadata": {
    "deletable": false,
    "editable": false,
    "id": "72fcc8a2",
    "tags": [
     "start_task"
    ],
    "pycharm": {
     "name": "#%% md\n"
    }
   },
   "source": [
    "**Задание 16. На основании диапазонов, указанных ниже, создайте в датафрейме `data` столбец `total_income_category` с категориями:**\n",
    "\n",
    "- 0–30000 — `'E'`;\n",
    "- 30001–50000 — `'D'`;\n",
    "- 50001–200000 — `'C'`;\n",
    "- 200001–1000000 — `'B'`;\n",
    "- 1000001 и выше — `'A'`.\n",
    "\n",
    "\n",
    "**Например, кредитополучателю с доходом 25000 нужно назначить категорию `'E'`, а клиенту, получающему 235000, — `'B'`. Используйте собственную функцию с именем `categorize_income()` и метод `apply()`.**"
   ]
  },
  {
   "cell_type": "code",
   "execution_count": 65,
   "id": "e1771346",
   "metadata": {
    "id": "e1771346",
    "pycharm": {
     "name": "#%%\n"
    }
   },
   "outputs": [],
   "source": [
    "# создайте функцию categorize_income()\n",
    "def categorize_income(row):\n",
    "    if row <= 30000:\n",
    "        return 'E'\n",
    "    elif row < 50000:\n",
    "        return 'D'\n",
    "    elif row < 200000:\n",
    "        return 'C'\n",
    "    elif row < 1000000:\n",
    "        return 'B'\n",
    "    else:\n",
    "        return 'A'\n",
    "    \n"
   ]
  },
  {
   "cell_type": "code",
   "execution_count": 66,
   "id": "d5f3586d",
   "metadata": {
    "id": "d5f3586d",
    "pycharm": {
     "name": "#%%\n"
    }
   },
   "outputs": [],
   "source": [
    "# примените функцию методом apply()\n",
    "data['total_income_category'] = data['total_income'].apply(categorize_income)"
   ]
  },
  {
   "cell_type": "markdown",
   "id": "dde49b5c",
   "metadata": {
    "deletable": false,
    "editable": false,
    "id": "dde49b5c",
    "tags": [
     "start_task"
    ],
    "pycharm": {
     "name": "#%% md\n"
    }
   },
   "source": [
    "**Задание 17. Выведите на экран перечень уникальных целей взятия кредита из столбца `purpose`.**"
   ]
  },
  {
   "cell_type": "code",
   "execution_count": 90,
   "id": "f67ce9b3",
   "metadata": {
    "id": "f67ce9b3",
    "pycharm": {
     "name": "#%%\n"
    }
   },
   "outputs": [
    {
     "data": {
      "text/plain": [
       "array(['покупка жилья', 'приобретение автомобиля',\n",
       "       'дополнительное образование', 'сыграть свадьбу',\n",
       "       'операции с жильем', 'образование', 'на проведение свадьбы',\n",
       "       'покупка жилья для семьи', 'покупка недвижимости',\n",
       "       'покупка коммерческой недвижимости', 'покупка жилой недвижимости',\n",
       "       'строительство собственной недвижимости', 'недвижимость',\n",
       "       'строительство недвижимости', 'на покупку подержанного автомобиля',\n",
       "       'на покупку своего автомобиля',\n",
       "       'операции с коммерческой недвижимостью',\n",
       "       'строительство жилой недвижимости', 'жилье',\n",
       "       'операции со своей недвижимостью', 'автомобили',\n",
       "       'заняться образованием', 'сделка с подержанным автомобилем',\n",
       "       'получение образования', 'автомобиль', 'свадьба',\n",
       "       'получение дополнительного образования', 'покупка своего жилья',\n",
       "       'операции с недвижимостью', 'получение высшего образования',\n",
       "       'свой автомобиль', 'сделка с автомобилем',\n",
       "       'профильное образование', 'высшее образование',\n",
       "       'покупка жилья для сдачи', 'на покупку автомобиля', 'ремонт жилью',\n",
       "       'заняться высшим образованием'], dtype=object)"
      ]
     },
     "execution_count": 90,
     "metadata": {},
     "output_type": "execute_result"
    }
   ],
   "source": [
    "# ваш код здесь\n",
    "data['purpose'].unique()"
   ]
  },
  {
   "cell_type": "markdown",
   "id": "85d0aef0",
   "metadata": {
    "deletable": false,
    "editable": false,
    "id": "85d0aef0",
    "tags": [
     "start_task"
    ],
    "pycharm": {
     "name": "#%% md\n"
    }
   },
   "source": [
    "**Задание 18. Создайте функцию, которая на основании данных из столбца `purpose` сформирует новый столбец `purpose_category`, в который войдут следующие категории:**\n",
    "\n",
    "- `'операции с автомобилем'`,\n",
    "- `'операции с недвижимостью'`,\n",
    "- `'проведение свадьбы'`,\n",
    "- `'получение образования'`.\n",
    "\n",
    "**Например, если в столбце `purpose` находится подстрока `'на покупку автомобиля'`, то в столбце `purpose_category` должна появиться строка `'операции с автомобилем'`.**\n",
    "\n",
    "**Используйте собственную функцию с именем `categorize_purpose()` и метод `apply()`. Изучите данные в столбце `purpose` и определите, какие подстроки помогут вам правильно определить категорию.**"
   ]
  },
  {
   "cell_type": "code",
   "execution_count": 107,
   "id": "e149fab4",
   "metadata": {
    "id": "e149fab4",
    "pycharm": {
     "name": "#%%\n"
    }
   },
   "outputs": [],
   "source": [
    "def categorize_purpose(row):\n",
    "    try:\n",
    "        if 'автом' in row:\n",
    "            return 'операции с автомобилем'\n",
    "        elif 'жил' in row or 'недвиж' in row:\n",
    "            return 'операции с недвижимостью'\n",
    "        elif 'свад' in row:\n",
    "            return 'проведение свадьбы'\n",
    "        elif 'образов' in row:\n",
    "            return 'получение образования'\n",
    "    except:\n",
    "        return 'нет категории'"
   ]
  },
  {
   "cell_type": "code",
   "execution_count": 108,
   "id": "bf36e69b",
   "metadata": {
    "id": "bf36e69b",
    "pycharm": {
     "name": "#%%\n"
    }
   },
   "outputs": [],
   "source": [
    "# примените функцию методом apply()\n",
    "data['purpose_category'] = data['purpose'].apply(categorize_purpose)"
   ]
  },
  {
   "cell_type": "code",
   "execution_count": null,
   "id": "08e03ba7",
   "metadata": {
    "pycharm": {
     "name": "#%%\n"
    }
   },
   "outputs": [],
   "source": []
  }
 ],
 "metadata": {
  "ExecuteTimeLog": [
   {
    "duration": 432,
    "start_time": "2022-12-14T17:30:00.854Z"
   },
   {
    "duration": 345,
    "start_time": "2022-12-14T17:30:01.820Z"
   },
   {
    "duration": 21,
    "start_time": "2022-12-14T17:30:06.782Z"
   },
   {
    "duration": 61,
    "start_time": "2022-12-14T17:30:50.119Z"
   },
   {
    "duration": 7,
    "start_time": "2022-12-14T17:31:01.545Z"
   },
   {
    "duration": 85,
    "start_time": "2022-12-14T17:31:04.312Z"
   },
   {
    "duration": 14,
    "start_time": "2022-12-14T17:31:05.771Z"
   },
   {
    "duration": 14,
    "start_time": "2022-12-14T17:31:07.550Z"
   },
   {
    "duration": 10,
    "start_time": "2022-12-14T17:32:07.702Z"
   },
   {
    "duration": 10,
    "start_time": "2022-12-14T17:32:37.401Z"
   },
   {
    "duration": 5,
    "start_time": "2022-12-14T17:35:40.795Z"
   },
   {
    "duration": 14,
    "start_time": "2022-12-14T17:36:32.897Z"
   },
   {
    "duration": 4,
    "start_time": "2022-12-14T17:37:00.250Z"
   },
   {
    "duration": 7,
    "start_time": "2022-12-14T17:37:05.355Z"
   },
   {
    "duration": 5,
    "start_time": "2022-12-14T17:41:22.792Z"
   },
   {
    "duration": 10,
    "start_time": "2022-12-14T17:41:27.118Z"
   },
   {
    "duration": 5,
    "start_time": "2022-12-14T17:41:29.670Z"
   },
   {
    "duration": 6,
    "start_time": "2022-12-14T17:41:36.771Z"
   },
   {
    "duration": 6,
    "start_time": "2022-12-14T17:41:40.542Z"
   },
   {
    "duration": 7,
    "start_time": "2022-12-14T17:41:45.406Z"
   },
   {
    "duration": 805,
    "start_time": "2022-12-14T17:41:59.483Z"
   },
   {
    "duration": 8,
    "start_time": "2022-12-14T17:42:03.999Z"
   },
   {
    "duration": 7,
    "start_time": "2022-12-14T17:42:16.746Z"
   },
   {
    "duration": 7,
    "start_time": "2022-12-14T17:42:20.542Z"
   },
   {
    "duration": 6,
    "start_time": "2022-12-14T17:42:31.454Z"
   },
   {
    "duration": 11,
    "start_time": "2022-12-14T17:42:43.644Z"
   },
   {
    "duration": 6,
    "start_time": "2022-12-14T17:42:50.850Z"
   },
   {
    "duration": 6,
    "start_time": "2022-12-14T17:43:03.058Z"
   },
   {
    "duration": 731,
    "start_time": "2022-12-14T17:43:09.141Z"
   },
   {
    "duration": 7,
    "start_time": "2022-12-14T17:43:17.391Z"
   },
   {
    "duration": 14,
    "start_time": "2022-12-14T17:43:21.447Z"
   },
   {
    "duration": 7,
    "start_time": "2022-12-14T17:43:23.526Z"
   },
   {
    "duration": 7,
    "start_time": "2022-12-14T17:44:35.372Z"
   },
   {
    "duration": 11,
    "start_time": "2022-12-14T17:44:49.551Z"
   },
   {
    "duration": 9,
    "start_time": "2022-12-14T17:44:55.082Z"
   },
   {
    "duration": 52,
    "start_time": "2022-12-14T17:49:00.670Z"
   },
   {
    "duration": 5,
    "start_time": "2022-12-14T17:49:04.082Z"
   },
   {
    "duration": 6,
    "start_time": "2022-12-14T17:49:08.745Z"
   },
   {
    "duration": 6,
    "start_time": "2022-12-14T17:49:51.356Z"
   },
   {
    "duration": 7,
    "start_time": "2022-12-14T17:49:58.975Z"
   },
   {
    "duration": 12,
    "start_time": "2022-12-14T17:59:59.483Z"
   },
   {
    "duration": 83,
    "start_time": "2022-12-14T18:01:09.527Z"
   },
   {
    "duration": 50,
    "start_time": "2022-12-14T18:01:32.334Z"
   },
   {
    "duration": 60,
    "start_time": "2022-12-14T18:01:35.433Z"
   },
   {
    "duration": 49,
    "start_time": "2022-12-14T18:01:40.427Z"
   },
   {
    "duration": 54,
    "start_time": "2022-12-14T18:01:45.908Z"
   },
   {
    "duration": 12,
    "start_time": "2022-12-14T18:01:55.298Z"
   },
   {
    "duration": 8,
    "start_time": "2022-12-14T18:01:58.709Z"
   },
   {
    "duration": 7,
    "start_time": "2022-12-14T18:03:58.311Z"
   },
   {
    "duration": 8,
    "start_time": "2022-12-14T18:05:56.854Z"
   },
   {
    "duration": 17,
    "start_time": "2022-12-14T18:06:04.596Z"
   },
   {
    "duration": 14,
    "start_time": "2022-12-14T18:07:35.154Z"
   },
   {
    "duration": 24,
    "start_time": "2022-12-14T18:07:40.821Z"
   },
   {
    "duration": 15,
    "start_time": "2022-12-14T18:10:25.003Z"
   },
   {
    "duration": 2,
    "start_time": "2022-12-14T18:10:30.355Z"
   },
   {
    "duration": 77,
    "start_time": "2022-12-14T18:10:30.883Z"
   },
   {
    "duration": 13,
    "start_time": "2022-12-14T18:10:32.482Z"
   },
   {
    "duration": 14,
    "start_time": "2022-12-14T18:10:35.076Z"
   },
   {
    "duration": 10,
    "start_time": "2022-12-14T18:10:39.342Z"
   },
   {
    "duration": 2,
    "start_time": "2022-12-14T18:10:43.498Z"
   },
   {
    "duration": 5,
    "start_time": "2022-12-14T18:10:55.753Z"
   },
   {
    "duration": 6,
    "start_time": "2022-12-14T18:11:39.030Z"
   },
   {
    "duration": 4,
    "start_time": "2022-12-14T18:11:50.827Z"
   },
   {
    "duration": 839,
    "start_time": "2022-12-14T18:12:01.113Z"
   },
   {
    "duration": 8,
    "start_time": "2022-12-14T18:12:09.323Z"
   },
   {
    "duration": 4,
    "start_time": "2022-12-14T18:12:37.059Z"
   },
   {
    "duration": 9,
    "start_time": "2022-12-14T18:15:23.699Z"
   },
   {
    "duration": 9,
    "start_time": "2022-12-14T18:16:49.638Z"
   },
   {
    "duration": 10,
    "start_time": "2022-12-14T18:17:11.756Z"
   },
   {
    "duration": 15,
    "start_time": "2022-12-14T18:17:18.803Z"
   },
   {
    "duration": 11,
    "start_time": "2022-12-14T18:17:34.222Z"
   },
   {
    "duration": 808,
    "start_time": "2022-12-14T18:17:41.496Z"
   },
   {
    "duration": 11,
    "start_time": "2022-12-14T18:17:45.257Z"
   },
   {
    "duration": 734,
    "start_time": "2022-12-14T18:17:52.418Z"
   },
   {
    "duration": 12,
    "start_time": "2022-12-14T18:17:56.324Z"
   },
   {
    "duration": 670,
    "start_time": "2022-12-14T18:18:03.898Z"
   },
   {
    "duration": 9,
    "start_time": "2022-12-14T18:18:14.807Z"
   },
   {
    "duration": 8,
    "start_time": "2022-12-14T18:18:27.094Z"
   },
   {
    "duration": 11,
    "start_time": "2022-12-14T18:18:34.793Z"
   },
   {
    "duration": 779,
    "start_time": "2022-12-14T18:18:48.294Z"
   },
   {
    "duration": 9,
    "start_time": "2022-12-14T18:18:52.006Z"
   },
   {
    "duration": 11,
    "start_time": "2022-12-14T18:20:01.608Z"
   },
   {
    "duration": 7,
    "start_time": "2022-12-14T18:20:06.002Z"
   },
   {
    "duration": 7,
    "start_time": "2022-12-14T18:20:08.990Z"
   },
   {
    "duration": 10,
    "start_time": "2022-12-14T18:20:13.370Z"
   },
   {
    "duration": 6,
    "start_time": "2022-12-14T18:25:34.470Z"
   },
   {
    "duration": 31,
    "start_time": "2022-12-14T18:26:22.741Z"
   },
   {
    "duration": 25,
    "start_time": "2022-12-14T18:27:09.631Z"
   },
   {
    "duration": 351,
    "start_time": "2022-12-14T18:28:33.488Z"
   },
   {
    "duration": 26,
    "start_time": "2022-12-14T18:28:45.329Z"
   },
   {
    "duration": 13,
    "start_time": "2022-12-14T18:29:07.034Z"
   },
   {
    "duration": 28,
    "start_time": "2022-12-14T18:29:18.622Z"
   },
   {
    "duration": 12,
    "start_time": "2022-12-14T18:29:39.123Z"
   },
   {
    "duration": 12,
    "start_time": "2022-12-14T18:29:47.253Z"
   },
   {
    "duration": 5,
    "start_time": "2022-12-14T18:31:05.913Z"
   },
   {
    "duration": 5,
    "start_time": "2022-12-14T18:31:17.201Z"
   },
   {
    "duration": 3,
    "start_time": "2022-12-14T18:31:39.997Z"
   },
   {
    "duration": 5,
    "start_time": "2022-12-14T18:31:42.697Z"
   },
   {
    "duration": 17,
    "start_time": "2022-12-14T18:34:58.112Z"
   },
   {
    "duration": 193,
    "start_time": "2022-12-14T18:35:14.258Z"
   },
   {
    "duration": 4,
    "start_time": "2022-12-14T18:37:42.678Z"
   },
   {
    "duration": 5,
    "start_time": "2022-12-14T18:42:01.250Z"
   },
   {
    "duration": 4,
    "start_time": "2022-12-14T18:42:40.454Z"
   },
   {
    "duration": 12,
    "start_time": "2022-12-14T18:44:01.793Z"
   },
   {
    "duration": 173,
    "start_time": "2022-12-14T18:46:06.545Z"
   },
   {
    "duration": 167,
    "start_time": "2022-12-14T18:46:23.229Z"
   },
   {
    "duration": 13,
    "start_time": "2022-12-14T18:46:54.909Z"
   },
   {
    "duration": 10,
    "start_time": "2022-12-14T18:47:03.102Z"
   },
   {
    "duration": 11,
    "start_time": "2022-12-14T18:47:11.268Z"
   },
   {
    "duration": 235,
    "start_time": "2022-12-14T18:47:21.751Z"
   },
   {
    "duration": 202,
    "start_time": "2022-12-14T18:49:57.673Z"
   },
   {
    "duration": 12,
    "start_time": "2022-12-14T18:51:52.781Z"
   },
   {
    "duration": 14,
    "start_time": "2022-12-14T18:51:59.554Z"
   },
   {
    "duration": 20,
    "start_time": "2022-12-14T18:52:19.589Z"
   },
   {
    "duration": 759,
    "start_time": "2022-12-14T18:53:51.517Z"
   },
   {
    "duration": 730,
    "start_time": "2022-12-14T18:53:56.672Z"
   },
   {
    "duration": 17,
    "start_time": "2022-12-14T18:54:01.763Z"
   },
   {
    "duration": 14,
    "start_time": "2022-12-14T18:54:13.809Z"
   },
   {
    "duration": 27,
    "start_time": "2022-12-14T18:56:36.817Z"
   },
   {
    "duration": 25,
    "start_time": "2022-12-14T18:56:42.739Z"
   },
   {
    "duration": 16,
    "start_time": "2022-12-14T18:56:56.105Z"
   },
   {
    "duration": 11,
    "start_time": "2022-12-14T18:57:38.045Z"
   },
   {
    "duration": 10,
    "start_time": "2022-12-14T18:57:43.604Z"
   },
   {
    "duration": 9,
    "start_time": "2022-12-14T18:57:53.157Z"
   },
   {
    "duration": 10,
    "start_time": "2022-12-14T18:58:38.072Z"
   },
   {
    "duration": 12,
    "start_time": "2022-12-14T18:58:45.632Z"
   },
   {
    "duration": 8,
    "start_time": "2022-12-14T18:58:50.333Z"
   },
   {
    "duration": 7,
    "start_time": "2022-12-14T18:59:05.441Z"
   },
   {
    "duration": 11,
    "start_time": "2022-12-14T18:59:08.623Z"
   },
   {
    "duration": 11,
    "start_time": "2022-12-14T18:59:44.110Z"
   },
   {
    "duration": 9,
    "start_time": "2022-12-14T18:59:56.534Z"
   },
   {
    "duration": 7,
    "start_time": "2022-12-14T19:02:13.284Z"
   },
   {
    "duration": 11,
    "start_time": "2022-12-14T19:02:30.346Z"
   },
   {
    "duration": 13,
    "start_time": "2022-12-14T19:02:38.169Z"
   },
   {
    "duration": 48,
    "start_time": "2022-12-14T19:05:38.402Z"
   },
   {
    "duration": 12,
    "start_time": "2022-12-14T19:05:41.521Z"
   },
   {
    "duration": 10,
    "start_time": "2022-12-14T19:06:09.797Z"
   },
   {
    "duration": 9,
    "start_time": "2022-12-14T19:06:16.807Z"
   },
   {
    "duration": 9,
    "start_time": "2022-12-14T19:06:32.490Z"
   },
   {
    "duration": 14,
    "start_time": "2022-12-14T19:06:40.088Z"
   },
   {
    "duration": 4,
    "start_time": "2022-12-14T19:14:59.518Z"
   },
   {
    "duration": 10,
    "start_time": "2022-12-14T19:15:03.264Z"
   },
   {
    "duration": 12,
    "start_time": "2022-12-14T19:15:21.574Z"
   },
   {
    "duration": 11,
    "start_time": "2022-12-14T19:15:41.855Z"
   },
   {
    "duration": 12,
    "start_time": "2022-12-14T19:17:39.742Z"
   },
   {
    "duration": 24,
    "start_time": "2022-12-14T19:17:47.811Z"
   },
   {
    "duration": 23,
    "start_time": "2022-12-14T19:18:17.989Z"
   },
   {
    "duration": 11,
    "start_time": "2022-12-14T19:23:54.738Z"
   },
   {
    "duration": 65,
    "start_time": "2022-12-14T19:30:30.427Z"
   },
   {
    "duration": 68,
    "start_time": "2022-12-14T19:30:42.334Z"
   },
   {
    "duration": 68,
    "start_time": "2022-12-14T19:30:54.233Z"
   },
   {
    "duration": 67,
    "start_time": "2022-12-14T19:31:15.344Z"
   },
   {
    "duration": 76,
    "start_time": "2022-12-14T19:31:52.992Z"
   },
   {
    "duration": 73,
    "start_time": "2022-12-14T19:32:15.763Z"
   },
   {
    "duration": 25,
    "start_time": "2022-12-14T19:32:30.244Z"
   },
   {
    "duration": 12,
    "start_time": "2022-12-14T19:33:18.115Z"
   },
   {
    "duration": 13,
    "start_time": "2022-12-14T19:34:11.787Z"
   },
   {
    "duration": 17,
    "start_time": "2022-12-14T19:34:38.850Z"
   },
   {
    "duration": 11,
    "start_time": "2022-12-14T19:35:35.179Z"
   },
   {
    "duration": 14,
    "start_time": "2022-12-14T19:36:02.029Z"
   },
   {
    "duration": 6,
    "start_time": "2022-12-14T19:36:53.471Z"
   },
   {
    "duration": 7,
    "start_time": "2022-12-14T19:37:06.913Z"
   },
   {
    "duration": 7,
    "start_time": "2022-12-14T19:37:22.733Z"
   },
   {
    "duration": 8,
    "start_time": "2022-12-14T19:37:26.402Z"
   },
   {
    "duration": 10,
    "start_time": "2022-12-14T19:37:36.112Z"
   },
   {
    "duration": 8681,
    "start_time": "2022-12-14T19:39:18.307Z"
   },
   {
    "duration": 0,
    "start_time": "2022-12-14T19:40:59.235Z"
   },
   {
    "duration": 0,
    "start_time": "2022-12-14T19:43:34.406Z"
   },
   {
    "duration": 29,
    "start_time": "2022-12-14T19:44:55.051Z"
   },
   {
    "duration": 25,
    "start_time": "2022-12-14T19:44:59.287Z"
   },
   {
    "duration": 3,
    "start_time": "2022-12-14T19:45:12.676Z"
   },
   {
    "duration": 74,
    "start_time": "2022-12-14T19:45:13.093Z"
   },
   {
    "duration": 14,
    "start_time": "2022-12-14T19:45:14.085Z"
   },
   {
    "duration": 12,
    "start_time": "2022-12-14T19:45:17.624Z"
   },
   {
    "duration": 9,
    "start_time": "2022-12-14T19:45:20.838Z"
   },
   {
    "duration": 5,
    "start_time": "2022-12-14T19:45:25.161Z"
   },
   {
    "duration": 24,
    "start_time": "2022-12-14T19:45:26.585Z"
   },
   {
    "duration": 30,
    "start_time": "2022-12-14T19:46:04.286Z"
   },
   {
    "duration": 8,
    "start_time": "2022-12-14T19:48:07.539Z"
   },
   {
    "duration": 12,
    "start_time": "2022-12-14T19:50:46.229Z"
   },
   {
    "duration": 12,
    "start_time": "2022-12-14T19:51:03.569Z"
   },
   {
    "duration": 10,
    "start_time": "2022-12-14T19:51:22.991Z"
   },
   {
    "duration": 13,
    "start_time": "2022-12-14T19:51:26.993Z"
   },
   {
    "duration": 10,
    "start_time": "2022-12-14T19:51:52.660Z"
   },
   {
    "duration": 9,
    "start_time": "2022-12-14T19:52:00.963Z"
   },
   {
    "duration": 12,
    "start_time": "2022-12-14T19:52:17.716Z"
   },
   {
    "duration": 11,
    "start_time": "2022-12-14T19:52:26.921Z"
   },
   {
    "duration": 80,
    "start_time": "2022-12-14T19:53:17.023Z"
   },
   {
    "duration": 35,
    "start_time": "2022-12-14T19:56:29.863Z"
   },
   {
    "duration": 44,
    "start_time": "2022-12-14T19:56:36.617Z"
   },
   {
    "duration": 49,
    "start_time": "2022-12-14T19:58:26.677Z"
   },
   {
    "duration": 81,
    "start_time": "2022-12-14T20:01:12.908Z"
   },
   {
    "duration": 49,
    "start_time": "2022-12-14T20:01:18.567Z"
   },
   {
    "duration": 599,
    "start_time": "2022-12-14T20:01:53.368Z"
   },
   {
    "duration": 520,
    "start_time": "2022-12-14T20:04:20.145Z"
   },
   {
    "duration": 3,
    "start_time": "2022-12-14T20:04:40.571Z"
   },
   {
    "duration": 532,
    "start_time": "2022-12-14T20:04:43.413Z"
   },
   {
    "duration": 489,
    "start_time": "2022-12-14T20:04:48.100Z"
   },
   {
    "duration": 3,
    "start_time": "2022-12-14T20:05:00.391Z"
   },
   {
    "duration": 86,
    "start_time": "2022-12-14T20:05:00.840Z"
   },
   {
    "duration": 13,
    "start_time": "2022-12-14T20:05:02.187Z"
   },
   {
    "duration": 38,
    "start_time": "2022-12-14T20:05:10.828Z"
   },
   {
    "duration": 56,
    "start_time": "2022-12-14T20:05:38.860Z"
   },
   {
    "duration": 40,
    "start_time": "2022-12-14T20:07:39.473Z"
   },
   {
    "duration": 80,
    "start_time": "2022-12-14T20:08:08.483Z"
   },
   {
    "duration": 41,
    "start_time": "2022-12-14T20:08:11.406Z"
   },
   {
    "duration": 49,
    "start_time": "2022-12-14T20:08:37.138Z"
   },
   {
    "duration": 50,
    "start_time": "2022-12-14T20:09:13.087Z"
   },
   {
    "duration": 78,
    "start_time": "2022-12-14T20:11:27.655Z"
   },
   {
    "duration": 14,
    "start_time": "2022-12-14T20:12:08.627Z"
   },
   {
    "duration": 22,
    "start_time": "2022-12-14T20:12:18.503Z"
   },
   {
    "duration": 53,
    "start_time": "2022-12-14T20:18:05.451Z"
   },
   {
    "duration": 28,
    "start_time": "2022-12-14T20:18:31.617Z"
   },
   {
    "duration": 40,
    "start_time": "2022-12-14T20:18:33.653Z"
   },
   {
    "duration": 7,
    "start_time": "2022-12-14T20:22:48.670Z"
   },
   {
    "duration": 0,
    "start_time": "2022-12-14T20:26:06.154Z"
   },
   {
    "duration": 0,
    "start_time": "2022-12-14T20:26:06.155Z"
   },
   {
    "duration": 79,
    "start_time": "2022-12-14T20:26:26.245Z"
   },
   {
    "duration": 23,
    "start_time": "2022-12-14T20:26:53.309Z"
   },
   {
    "duration": 23,
    "start_time": "2022-12-14T20:27:00.811Z"
   },
   {
    "duration": 27,
    "start_time": "2022-12-14T20:27:06.379Z"
   },
   {
    "duration": 13,
    "start_time": "2022-12-14T20:27:11.886Z"
   },
   {
    "duration": 14,
    "start_time": "2022-12-14T20:27:25.770Z"
   },
   {
    "duration": 4,
    "start_time": "2022-12-14T20:28:03.549Z"
   },
   {
    "duration": 10,
    "start_time": "2022-12-14T20:28:08.216Z"
   },
   {
    "duration": 23,
    "start_time": "2022-12-14T20:28:23.102Z"
   },
   {
    "duration": 21,
    "start_time": "2022-12-14T20:28:31.985Z"
   },
   {
    "duration": 8,
    "start_time": "2022-12-14T20:29:13.099Z"
   },
   {
    "duration": 6,
    "start_time": "2022-12-14T20:29:26.711Z"
   },
   {
    "duration": 8,
    "start_time": "2022-12-14T20:29:32.300Z"
   },
   {
    "duration": 8,
    "start_time": "2022-12-14T20:29:38.894Z"
   },
   {
    "duration": 8,
    "start_time": "2022-12-14T20:29:43.190Z"
   },
   {
    "duration": 52,
    "start_time": "2022-12-14T20:30:05.660Z"
   },
   {
    "duration": 82,
    "start_time": "2022-12-14T20:30:29.367Z"
   },
   {
    "duration": 40,
    "start_time": "2022-12-14T20:30:34.406Z"
   },
   {
    "duration": 43,
    "start_time": "2022-12-14T20:31:40.062Z"
   },
   {
    "duration": 33,
    "start_time": "2022-12-14T20:32:21.717Z"
   },
   {
    "duration": 38,
    "start_time": "2022-12-14T20:32:27.677Z"
   },
   {
    "duration": 45,
    "start_time": "2022-12-14T20:32:35.667Z"
   },
   {
    "duration": 52,
    "start_time": "2022-12-14T20:32:47.345Z"
   },
   {
    "duration": 8,
    "start_time": "2022-12-14T20:33:26.274Z"
   },
   {
    "duration": 57,
    "start_time": "2022-12-14T20:34:27.501Z"
   },
   {
    "duration": 53,
    "start_time": "2022-12-14T20:34:38.119Z"
   },
   {
    "duration": 56,
    "start_time": "2022-12-14T20:34:46.117Z"
   },
   {
    "duration": 80,
    "start_time": "2022-12-14T20:36:40.859Z"
   },
   {
    "duration": 66,
    "start_time": "2022-12-14T20:36:44.634Z"
   },
   {
    "duration": 51,
    "start_time": "2022-12-14T20:36:50.569Z"
   },
   {
    "duration": 50,
    "start_time": "2022-12-14T20:37:13.409Z"
   },
   {
    "duration": 51,
    "start_time": "2022-12-14T20:37:28.959Z"
   },
   {
    "duration": 53,
    "start_time": "2022-12-14T20:37:38.693Z"
   },
   {
    "duration": 89,
    "start_time": "2022-12-14T20:37:44.610Z"
   },
   {
    "duration": 52,
    "start_time": "2022-12-14T20:37:46.968Z"
   },
   {
    "duration": 54,
    "start_time": "2022-12-14T20:38:12.513Z"
   },
   {
    "duration": 42,
    "start_time": "2022-12-14T20:38:21.330Z"
   },
   {
    "duration": 30,
    "start_time": "2022-12-14T20:40:03.006Z"
   },
   {
    "duration": 78,
    "start_time": "2022-12-14T20:40:14.344Z"
   },
   {
    "duration": 29,
    "start_time": "2022-12-14T20:40:17.141Z"
   },
   {
    "duration": 36,
    "start_time": "2022-12-14T20:40:34.136Z"
   },
   {
    "duration": 39,
    "start_time": "2022-12-14T20:40:53.754Z"
   },
   {
    "duration": 18,
    "start_time": "2022-12-14T20:41:05.786Z"
   },
   {
    "duration": 43,
    "start_time": "2022-12-14T20:45:37.193Z"
   },
   {
    "duration": 54,
    "start_time": "2022-12-14T20:45:55.215Z"
   },
   {
    "duration": 45,
    "start_time": "2022-12-14T20:46:19.771Z"
   },
   {
    "duration": 15,
    "start_time": "2022-12-14T20:46:41.072Z"
   },
   {
    "duration": 15,
    "start_time": "2022-12-14T20:46:48.330Z"
   },
   {
    "duration": 15,
    "start_time": "2022-12-14T20:47:26.639Z"
   },
   {
    "duration": 5,
    "start_time": "2022-12-14T20:47:44.510Z"
   },
   {
    "duration": 4,
    "start_time": "2022-12-14T20:47:50.143Z"
   },
   {
    "duration": 20,
    "start_time": "2022-12-14T20:47:57.954Z"
   },
   {
    "duration": 39,
    "start_time": "2022-12-14T20:49:27.056Z"
   },
   {
    "duration": 49,
    "start_time": "2022-12-14T20:49:34.282Z"
   },
   {
    "duration": 55,
    "start_time": "2022-12-14T20:49:39.379Z"
   },
   {
    "duration": 51,
    "start_time": "2022-12-14T20:50:43.224Z"
   },
   {
    "duration": 50,
    "start_time": "2022-12-14T20:54:31.649Z"
   },
   {
    "duration": 50,
    "start_time": "2022-12-15T07:08:19.845Z"
   },
   {
    "duration": 396,
    "start_time": "2022-12-15T07:08:24.193Z"
   },
   {
    "duration": 133,
    "start_time": "2022-12-15T07:08:25.137Z"
   },
   {
    "duration": 21,
    "start_time": "2022-12-15T07:08:26.333Z"
   },
   {
    "duration": 14,
    "start_time": "2022-12-15T07:08:27.552Z"
   },
   {
    "duration": 10,
    "start_time": "2022-12-15T07:08:29.765Z"
   },
   {
    "duration": 57,
    "start_time": "2022-12-15T07:08:31.171Z"
   },
   {
    "duration": 5,
    "start_time": "2022-12-15T07:08:33.045Z"
   },
   {
    "duration": 13,
    "start_time": "2022-12-15T07:08:50.839Z"
   },
   {
    "duration": 14,
    "start_time": "2022-12-15T07:11:08.400Z"
   },
   {
    "duration": 33,
    "start_time": "2022-12-15T07:12:38.061Z"
   },
   {
    "duration": 71,
    "start_time": "2022-12-15T07:13:05.371Z"
   },
   {
    "duration": 12,
    "start_time": "2022-12-15T07:13:08.882Z"
   },
   {
    "duration": 16,
    "start_time": "2022-12-15T07:13:24.058Z"
   },
   {
    "duration": 6,
    "start_time": "2022-12-15T07:23:55.512Z"
   },
   {
    "duration": 6,
    "start_time": "2022-12-15T07:27:26.816Z"
   },
   {
    "duration": 80,
    "start_time": "2022-12-15T07:27:38.728Z"
   },
   {
    "duration": 22,
    "start_time": "2022-12-15T07:27:43.830Z"
   },
   {
    "duration": 6,
    "start_time": "2022-12-15T07:27:50.753Z"
   },
   {
    "duration": 58,
    "start_time": "2022-12-15T07:27:55.001Z"
   },
   {
    "duration": 13,
    "start_time": "2022-12-15T07:28:27.150Z"
   },
   {
    "duration": 6,
    "start_time": "2022-12-15T07:28:31.477Z"
   },
   {
    "duration": 6,
    "start_time": "2022-12-15T07:29:52.690Z"
   },
   {
    "duration": 7,
    "start_time": "2022-12-15T07:30:59.510Z"
   },
   {
    "duration": 55,
    "start_time": "2022-12-15T07:44:32.019Z"
   },
   {
    "duration": 14,
    "start_time": "2022-12-15T07:44:49.759Z"
   },
   {
    "duration": 16,
    "start_time": "2022-12-15T07:45:02.025Z"
   },
   {
    "duration": 24,
    "start_time": "2022-12-15T07:45:11.374Z"
   },
   {
    "duration": 11,
    "start_time": "2022-12-15T07:46:27.105Z"
   },
   {
    "duration": 14,
    "start_time": "2022-12-15T07:46:48.386Z"
   },
   {
    "duration": 18,
    "start_time": "2022-12-15T07:47:33.615Z"
   },
   {
    "duration": 17,
    "start_time": "2022-12-15T07:47:38.478Z"
   },
   {
    "duration": 10,
    "start_time": "2022-12-15T07:47:48.744Z"
   },
   {
    "duration": 3,
    "start_time": "2022-12-15T07:47:52.266Z"
   },
   {
    "duration": 7,
    "start_time": "2022-12-15T07:47:58.046Z"
   },
   {
    "duration": 3,
    "start_time": "2022-12-15T07:48:06.261Z"
   },
   {
    "duration": 12,
    "start_time": "2022-12-15T07:53:42.378Z"
   },
   {
    "duration": 20,
    "start_time": "2022-12-15T07:53:59.739Z"
   },
   {
    "duration": 3,
    "start_time": "2022-12-15T08:11:29.489Z"
   },
   {
    "duration": 68,
    "start_time": "2022-12-15T08:11:47.603Z"
   },
   {
    "duration": 43,
    "start_time": "2022-12-15T08:12:03.163Z"
   },
   {
    "duration": 58,
    "start_time": "2022-12-15T08:35:16.118Z"
   },
   {
    "duration": 14,
    "start_time": "2022-12-15T08:35:28.282Z"
   },
   {
    "duration": 4,
    "start_time": "2022-12-15T08:53:08.167Z"
   },
   {
    "duration": 50,
    "start_time": "2022-12-15T09:02:59.932Z"
   },
   {
    "duration": 5,
    "start_time": "2022-12-15T09:03:03.166Z"
   },
   {
    "duration": 51,
    "start_time": "2022-12-15T10:29:06.275Z"
   },
   {
    "duration": 419,
    "start_time": "2022-12-15T10:29:16.715Z"
   },
   {
    "duration": 134,
    "start_time": "2022-12-15T10:29:17.136Z"
   },
   {
    "duration": 23,
    "start_time": "2022-12-15T10:29:17.271Z"
   },
   {
    "duration": 14,
    "start_time": "2022-12-15T10:29:17.295Z"
   },
   {
    "duration": 12,
    "start_time": "2022-12-15T10:29:17.311Z"
   },
   {
    "duration": 51,
    "start_time": "2022-12-15T10:29:17.325Z"
   },
   {
    "duration": 3,
    "start_time": "2022-12-15T10:29:17.378Z"
   },
   {
    "duration": 14,
    "start_time": "2022-12-15T10:29:17.383Z"
   },
   {
    "duration": 8,
    "start_time": "2022-12-15T10:29:17.399Z"
   },
   {
    "duration": 4,
    "start_time": "2022-12-15T10:29:17.421Z"
   },
   {
    "duration": 6,
    "start_time": "2022-12-15T10:29:17.426Z"
   },
   {
    "duration": 6,
    "start_time": "2022-12-15T10:29:17.434Z"
   },
   {
    "duration": 5,
    "start_time": "2022-12-15T10:29:17.442Z"
   },
   {
    "duration": 5,
    "start_time": "2022-12-15T10:29:17.450Z"
   },
   {
    "duration": 6,
    "start_time": "2022-12-15T10:29:17.456Z"
   },
   {
    "duration": 4,
    "start_time": "2022-12-15T10:29:17.464Z"
   },
   {
    "duration": 8,
    "start_time": "2022-12-15T10:29:17.470Z"
   },
   {
    "duration": 8,
    "start_time": "2022-12-15T10:29:17.479Z"
   },
   {
    "duration": 5,
    "start_time": "2022-12-15T10:29:17.488Z"
   },
   {
    "duration": 6,
    "start_time": "2022-12-15T10:29:17.494Z"
   },
   {
    "duration": 22,
    "start_time": "2022-12-15T10:29:17.501Z"
   },
   {
    "duration": 7,
    "start_time": "2022-12-15T10:29:17.524Z"
   },
   {
    "duration": 4,
    "start_time": "2022-12-15T10:31:08.175Z"
   },
   {
    "duration": 622,
    "start_time": "2022-12-15T10:33:35.139Z"
   },
   {
    "duration": 11,
    "start_time": "2022-12-15T10:37:46.685Z"
   },
   {
    "duration": 66,
    "start_time": "2022-12-15T10:37:51.262Z"
   },
   {
    "duration": 12,
    "start_time": "2022-12-15T10:37:54.715Z"
   },
   {
    "duration": 22,
    "start_time": "2022-12-15T10:41:57.621Z"
   },
   {
    "duration": 15,
    "start_time": "2022-12-15T10:45:46.035Z"
   },
   {
    "duration": 15,
    "start_time": "2022-12-15T10:46:03.425Z"
   },
   {
    "duration": 17,
    "start_time": "2022-12-15T10:46:18.982Z"
   },
   {
    "duration": 6,
    "start_time": "2022-12-15T10:47:16.911Z"
   },
   {
    "duration": 11,
    "start_time": "2022-12-15T10:47:26.765Z"
   },
   {
    "duration": 12,
    "start_time": "2022-12-15T10:47:33.285Z"
   },
   {
    "duration": 10,
    "start_time": "2022-12-15T10:47:36.638Z"
   },
   {
    "duration": 6,
    "start_time": "2022-12-15T10:54:04.111Z"
   },
   {
    "duration": 26,
    "start_time": "2022-12-15T11:00:23.903Z"
   },
   {
    "duration": 14,
    "start_time": "2022-12-15T11:26:42.388Z"
   },
   {
    "duration": 2,
    "start_time": "2022-12-15T11:32:22.050Z"
   },
   {
    "duration": 64,
    "start_time": "2022-12-15T11:32:22.416Z"
   },
   {
    "duration": 16,
    "start_time": "2022-12-15T11:32:22.793Z"
   },
   {
    "duration": 16,
    "start_time": "2022-12-15T11:32:23.494Z"
   },
   {
    "duration": 9,
    "start_time": "2022-12-15T11:32:25.161Z"
   },
   {
    "duration": 51,
    "start_time": "2022-12-15T11:32:25.998Z"
   },
   {
    "duration": 4,
    "start_time": "2022-12-15T11:32:27.558Z"
   },
   {
    "duration": 8,
    "start_time": "2022-12-15T11:32:28.575Z"
   },
   {
    "duration": 4,
    "start_time": "2022-12-15T11:32:30.131Z"
   },
   {
    "duration": 9,
    "start_time": "2022-12-15T11:32:31.208Z"
   },
   {
    "duration": 5,
    "start_time": "2022-12-15T11:32:32.304Z"
   },
   {
    "duration": 16,
    "start_time": "2022-12-15T11:32:35.544Z"
   },
   {
    "duration": 19,
    "start_time": "2022-12-15T11:33:46.943Z"
   },
   {
    "duration": 21,
    "start_time": "2022-12-15T12:53:29.180Z"
   },
   {
    "duration": 27,
    "start_time": "2022-12-15T12:54:00.511Z"
   },
   {
    "duration": 42,
    "start_time": "2022-12-15T12:54:34.875Z"
   },
   {
    "duration": 50,
    "start_time": "2022-12-15T12:55:04.116Z"
   },
   {
    "duration": 8,
    "start_time": "2022-12-15T12:57:55.696Z"
   },
   {
    "duration": 6,
    "start_time": "2022-12-15T12:58:21.391Z"
   },
   {
    "duration": 4,
    "start_time": "2022-12-15T12:59:05.255Z"
   },
   {
    "duration": 9,
    "start_time": "2022-12-15T12:59:44.860Z"
   },
   {
    "duration": 11,
    "start_time": "2022-12-15T12:59:49.333Z"
   },
   {
    "duration": 21,
    "start_time": "2022-12-15T13:00:31.289Z"
   },
   {
    "duration": 35,
    "start_time": "2022-12-15T13:00:43.150Z"
   },
   {
    "duration": 21,
    "start_time": "2022-12-15T13:01:08.083Z"
   },
   {
    "duration": 10,
    "start_time": "2022-12-15T13:05:36.992Z"
   },
   {
    "duration": 8,
    "start_time": "2022-12-15T13:05:43.454Z"
   },
   {
    "duration": 8,
    "start_time": "2022-12-15T13:06:11.055Z"
   },
   {
    "duration": 7,
    "start_time": "2022-12-15T13:10:22.047Z"
   },
   {
    "duration": 3,
    "start_time": "2022-12-15T13:10:25.216Z"
   },
   {
    "duration": 10,
    "start_time": "2022-12-15T13:10:26.528Z"
   },
   {
    "duration": 6,
    "start_time": "2022-12-15T13:11:23.429Z"
   },
   {
    "duration": 96,
    "start_time": "2022-12-15T13:18:54.541Z"
   },
   {
    "duration": 74,
    "start_time": "2022-12-15T13:19:23.338Z"
   },
   {
    "duration": 3,
    "start_time": "2022-12-15T13:19:36.006Z"
   },
   {
    "duration": 6,
    "start_time": "2022-12-15T13:19:37.409Z"
   },
   {
    "duration": 5,
    "start_time": "2022-12-15T13:19:37.940Z"
   },
   {
    "duration": 4,
    "start_time": "2022-12-15T13:28:26.538Z"
   },
   {
    "duration": 9,
    "start_time": "2022-12-15T13:28:27.411Z"
   },
   {
    "duration": 6,
    "start_time": "2022-12-15T13:28:27.883Z"
   },
   {
    "duration": 5,
    "start_time": "2022-12-15T13:33:16.243Z"
   },
   {
    "duration": 11,
    "start_time": "2022-12-15T13:33:17.048Z"
   },
   {
    "duration": 6,
    "start_time": "2022-12-15T13:33:17.382Z"
   },
   {
    "duration": 4,
    "start_time": "2022-12-15T13:33:45.593Z"
   },
   {
    "duration": 11,
    "start_time": "2022-12-15T13:33:45.979Z"
   },
   {
    "duration": 5,
    "start_time": "2022-12-15T13:33:46.299Z"
   },
   {
    "duration": 4,
    "start_time": "2022-12-15T13:34:10.297Z"
   },
   {
    "duration": 10,
    "start_time": "2022-12-15T13:34:10.547Z"
   },
   {
    "duration": 5,
    "start_time": "2022-12-15T14:26:21.949Z"
   },
   {
    "duration": 7,
    "start_time": "2022-12-15T14:27:21.458Z"
   },
   {
    "duration": 6,
    "start_time": "2022-12-15T14:27:25.365Z"
   },
   {
    "duration": 4,
    "start_time": "2022-12-15T14:50:21.059Z"
   },
   {
    "duration": 12,
    "start_time": "2022-12-15T14:50:21.712Z"
   },
   {
    "duration": 6,
    "start_time": "2022-12-15T14:50:22.380Z"
   },
   {
    "duration": 13,
    "start_time": "2022-12-15T14:50:47.456Z"
   },
   {
    "duration": 19,
    "start_time": "2022-12-15T14:50:57.296Z"
   },
   {
    "duration": 5,
    "start_time": "2022-12-15T14:51:46.364Z"
   },
   {
    "duration": 11,
    "start_time": "2022-12-15T14:51:46.898Z"
   },
   {
    "duration": 5,
    "start_time": "2022-12-15T14:51:47.335Z"
   },
   {
    "duration": 19,
    "start_time": "2022-12-15T14:51:48.601Z"
   },
   {
    "duration": 4,
    "start_time": "2022-12-15T14:51:54.552Z"
   },
   {
    "duration": 7,
    "start_time": "2022-12-15T14:53:37.711Z"
   },
   {
    "duration": 7,
    "start_time": "2022-12-15T14:53:53.287Z"
   },
   {
    "duration": 5,
    "start_time": "2022-12-15T14:55:47.694Z"
   },
   {
    "duration": 10,
    "start_time": "2022-12-15T14:55:48.228Z"
   },
   {
    "duration": 7,
    "start_time": "2022-12-15T14:55:48.867Z"
   },
   {
    "duration": 5,
    "start_time": "2022-12-15T14:55:53.251Z"
   },
   {
    "duration": 4,
    "start_time": "2022-12-15T14:56:06.739Z"
   },
   {
    "duration": 11,
    "start_time": "2022-12-15T14:56:06.992Z"
   }
  ],
  "colab": {
   "provenance": []
  },
  "kernelspec": {
   "display_name": "Python 3 (ipykernel)",
   "language": "python",
   "name": "python3"
  },
  "language_info": {
   "codemirror_mode": {
    "name": "ipython",
    "version": 3
   },
   "file_extension": ".py",
   "mimetype": "text/x-python",
   "name": "python",
   "nbconvert_exporter": "python",
   "pygments_lexer": "ipython3",
   "version": "3.9.5"
  },
  "toc": {
   "base_numbering": 1,
   "nav_menu": {},
   "number_sections": true,
   "sideBar": true,
   "skip_h1_title": true,
   "title_cell": "Table of Contents",
   "title_sidebar": "Contents",
   "toc_cell": false,
   "toc_position": {},
   "toc_section_display": true,
   "toc_window_display": false
  }
 },
 "nbformat": 4,
 "nbformat_minor": 5
}